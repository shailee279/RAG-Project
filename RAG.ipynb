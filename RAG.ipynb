{
  "nbformat": 4,
  "nbformat_minor": 0,
  "metadata": {
    "colab": {
      "provenance": []
    },
    "kernelspec": {
      "name": "python3",
      "display_name": "Python 3"
    },
    "language_info": {
      "name": "python"
    }
  },
  "cells": [
    {
      "cell_type": "code",
      "source": [
        "!pip install langchain\n",
        "!pip install langchain-community"
      ],
      "metadata": {
        "colab": {
          "base_uri": "https://localhost:8080/"
        },
        "id": "qGw3h-9Lv7ko",
        "outputId": "ccaf5eea-4c04-4bd9-c38b-9792d66d1886"
      },
      "execution_count": 20,
      "outputs": [
        {
          "output_type": "stream",
          "name": "stdout",
          "text": [
            "Requirement already satisfied: langchain in /usr/local/lib/python3.10/dist-packages (0.2.10)\n",
            "Requirement already satisfied: PyYAML>=5.3 in /usr/local/lib/python3.10/dist-packages (from langchain) (6.0.1)\n",
            "Requirement already satisfied: SQLAlchemy<3,>=1.4 in /usr/local/lib/python3.10/dist-packages (from langchain) (2.0.31)\n",
            "Requirement already satisfied: aiohttp<4.0.0,>=3.8.3 in /usr/local/lib/python3.10/dist-packages (from langchain) (3.9.5)\n",
            "Requirement already satisfied: async-timeout<5.0.0,>=4.0.0 in /usr/local/lib/python3.10/dist-packages (from langchain) (4.0.3)\n",
            "Requirement already satisfied: langchain-core<0.3.0,>=0.2.22 in /usr/local/lib/python3.10/dist-packages (from langchain) (0.2.22)\n",
            "Requirement already satisfied: langchain-text-splitters<0.3.0,>=0.2.0 in /usr/local/lib/python3.10/dist-packages (from langchain) (0.2.2)\n",
            "Requirement already satisfied: langsmith<0.2.0,>=0.1.17 in /usr/local/lib/python3.10/dist-packages (from langchain) (0.1.93)\n",
            "Requirement already satisfied: numpy<2,>=1 in /usr/local/lib/python3.10/dist-packages (from langchain) (1.25.2)\n",
            "Requirement already satisfied: pydantic<3,>=1 in /usr/local/lib/python3.10/dist-packages (from langchain) (2.8.2)\n",
            "Requirement already satisfied: requests<3,>=2 in /usr/local/lib/python3.10/dist-packages (from langchain) (2.31.0)\n",
            "Requirement already satisfied: tenacity!=8.4.0,<9.0.0,>=8.1.0 in /usr/local/lib/python3.10/dist-packages (from langchain) (8.5.0)\n",
            "Requirement already satisfied: aiosignal>=1.1.2 in /usr/local/lib/python3.10/dist-packages (from aiohttp<4.0.0,>=3.8.3->langchain) (1.3.1)\n",
            "Requirement already satisfied: attrs>=17.3.0 in /usr/local/lib/python3.10/dist-packages (from aiohttp<4.0.0,>=3.8.3->langchain) (23.2.0)\n",
            "Requirement already satisfied: frozenlist>=1.1.1 in /usr/local/lib/python3.10/dist-packages (from aiohttp<4.0.0,>=3.8.3->langchain) (1.4.1)\n",
            "Requirement already satisfied: multidict<7.0,>=4.5 in /usr/local/lib/python3.10/dist-packages (from aiohttp<4.0.0,>=3.8.3->langchain) (6.0.5)\n",
            "Requirement already satisfied: yarl<2.0,>=1.0 in /usr/local/lib/python3.10/dist-packages (from aiohttp<4.0.0,>=3.8.3->langchain) (1.9.4)\n",
            "Requirement already satisfied: jsonpatch<2.0,>=1.33 in /usr/local/lib/python3.10/dist-packages (from langchain-core<0.3.0,>=0.2.22->langchain) (1.33)\n",
            "Requirement already satisfied: packaging<25,>=23.2 in /usr/local/lib/python3.10/dist-packages (from langchain-core<0.3.0,>=0.2.22->langchain) (24.1)\n",
            "Requirement already satisfied: orjson<4.0.0,>=3.9.14 in /usr/local/lib/python3.10/dist-packages (from langsmith<0.2.0,>=0.1.17->langchain) (3.10.6)\n",
            "Requirement already satisfied: annotated-types>=0.4.0 in /usr/local/lib/python3.10/dist-packages (from pydantic<3,>=1->langchain) (0.7.0)\n",
            "Requirement already satisfied: pydantic-core==2.20.1 in /usr/local/lib/python3.10/dist-packages (from pydantic<3,>=1->langchain) (2.20.1)\n",
            "Requirement already satisfied: typing-extensions>=4.6.1 in /usr/local/lib/python3.10/dist-packages (from pydantic<3,>=1->langchain) (4.12.2)\n",
            "Requirement already satisfied: charset-normalizer<4,>=2 in /usr/local/lib/python3.10/dist-packages (from requests<3,>=2->langchain) (3.3.2)\n",
            "Requirement already satisfied: idna<4,>=2.5 in /usr/local/lib/python3.10/dist-packages (from requests<3,>=2->langchain) (3.7)\n",
            "Requirement already satisfied: urllib3<3,>=1.21.1 in /usr/local/lib/python3.10/dist-packages (from requests<3,>=2->langchain) (2.0.7)\n",
            "Requirement already satisfied: certifi>=2017.4.17 in /usr/local/lib/python3.10/dist-packages (from requests<3,>=2->langchain) (2024.7.4)\n",
            "Requirement already satisfied: greenlet!=0.4.17 in /usr/local/lib/python3.10/dist-packages (from SQLAlchemy<3,>=1.4->langchain) (3.0.3)\n",
            "Requirement already satisfied: jsonpointer>=1.9 in /usr/local/lib/python3.10/dist-packages (from jsonpatch<2.0,>=1.33->langchain-core<0.3.0,>=0.2.22->langchain) (3.0.0)\n",
            "Requirement already satisfied: langchain-community in /usr/local/lib/python3.10/dist-packages (0.2.9)\n",
            "Requirement already satisfied: PyYAML>=5.3 in /usr/local/lib/python3.10/dist-packages (from langchain-community) (6.0.1)\n",
            "Requirement already satisfied: SQLAlchemy<3,>=1.4 in /usr/local/lib/python3.10/dist-packages (from langchain-community) (2.0.31)\n",
            "Requirement already satisfied: aiohttp<4.0.0,>=3.8.3 in /usr/local/lib/python3.10/dist-packages (from langchain-community) (3.9.5)\n",
            "Requirement already satisfied: dataclasses-json<0.7,>=0.5.7 in /usr/local/lib/python3.10/dist-packages (from langchain-community) (0.6.7)\n",
            "Requirement already satisfied: langchain<0.3.0,>=0.2.9 in /usr/local/lib/python3.10/dist-packages (from langchain-community) (0.2.10)\n",
            "Requirement already satisfied: langchain-core<0.3.0,>=0.2.22 in /usr/local/lib/python3.10/dist-packages (from langchain-community) (0.2.22)\n",
            "Requirement already satisfied: langsmith<0.2.0,>=0.1.0 in /usr/local/lib/python3.10/dist-packages (from langchain-community) (0.1.93)\n",
            "Requirement already satisfied: numpy<2,>=1 in /usr/local/lib/python3.10/dist-packages (from langchain-community) (1.25.2)\n",
            "Requirement already satisfied: requests<3,>=2 in /usr/local/lib/python3.10/dist-packages (from langchain-community) (2.31.0)\n",
            "Requirement already satisfied: tenacity!=8.4.0,<9.0.0,>=8.1.0 in /usr/local/lib/python3.10/dist-packages (from langchain-community) (8.5.0)\n",
            "Requirement already satisfied: aiosignal>=1.1.2 in /usr/local/lib/python3.10/dist-packages (from aiohttp<4.0.0,>=3.8.3->langchain-community) (1.3.1)\n",
            "Requirement already satisfied: attrs>=17.3.0 in /usr/local/lib/python3.10/dist-packages (from aiohttp<4.0.0,>=3.8.3->langchain-community) (23.2.0)\n",
            "Requirement already satisfied: frozenlist>=1.1.1 in /usr/local/lib/python3.10/dist-packages (from aiohttp<4.0.0,>=3.8.3->langchain-community) (1.4.1)\n",
            "Requirement already satisfied: multidict<7.0,>=4.5 in /usr/local/lib/python3.10/dist-packages (from aiohttp<4.0.0,>=3.8.3->langchain-community) (6.0.5)\n",
            "Requirement already satisfied: yarl<2.0,>=1.0 in /usr/local/lib/python3.10/dist-packages (from aiohttp<4.0.0,>=3.8.3->langchain-community) (1.9.4)\n",
            "Requirement already satisfied: async-timeout<5.0,>=4.0 in /usr/local/lib/python3.10/dist-packages (from aiohttp<4.0.0,>=3.8.3->langchain-community) (4.0.3)\n",
            "Requirement already satisfied: marshmallow<4.0.0,>=3.18.0 in /usr/local/lib/python3.10/dist-packages (from dataclasses-json<0.7,>=0.5.7->langchain-community) (3.21.3)\n",
            "Requirement already satisfied: typing-inspect<1,>=0.4.0 in /usr/local/lib/python3.10/dist-packages (from dataclasses-json<0.7,>=0.5.7->langchain-community) (0.9.0)\n",
            "Requirement already satisfied: langchain-text-splitters<0.3.0,>=0.2.0 in /usr/local/lib/python3.10/dist-packages (from langchain<0.3.0,>=0.2.9->langchain-community) (0.2.2)\n",
            "Requirement already satisfied: pydantic<3,>=1 in /usr/local/lib/python3.10/dist-packages (from langchain<0.3.0,>=0.2.9->langchain-community) (2.8.2)\n",
            "Requirement already satisfied: jsonpatch<2.0,>=1.33 in /usr/local/lib/python3.10/dist-packages (from langchain-core<0.3.0,>=0.2.22->langchain-community) (1.33)\n",
            "Requirement already satisfied: packaging<25,>=23.2 in /usr/local/lib/python3.10/dist-packages (from langchain-core<0.3.0,>=0.2.22->langchain-community) (24.1)\n",
            "Requirement already satisfied: orjson<4.0.0,>=3.9.14 in /usr/local/lib/python3.10/dist-packages (from langsmith<0.2.0,>=0.1.0->langchain-community) (3.10.6)\n",
            "Requirement already satisfied: charset-normalizer<4,>=2 in /usr/local/lib/python3.10/dist-packages (from requests<3,>=2->langchain-community) (3.3.2)\n",
            "Requirement already satisfied: idna<4,>=2.5 in /usr/local/lib/python3.10/dist-packages (from requests<3,>=2->langchain-community) (3.7)\n",
            "Requirement already satisfied: urllib3<3,>=1.21.1 in /usr/local/lib/python3.10/dist-packages (from requests<3,>=2->langchain-community) (2.0.7)\n",
            "Requirement already satisfied: certifi>=2017.4.17 in /usr/local/lib/python3.10/dist-packages (from requests<3,>=2->langchain-community) (2024.7.4)\n",
            "Requirement already satisfied: typing-extensions>=4.6.0 in /usr/local/lib/python3.10/dist-packages (from SQLAlchemy<3,>=1.4->langchain-community) (4.12.2)\n",
            "Requirement already satisfied: greenlet!=0.4.17 in /usr/local/lib/python3.10/dist-packages (from SQLAlchemy<3,>=1.4->langchain-community) (3.0.3)\n",
            "Requirement already satisfied: jsonpointer>=1.9 in /usr/local/lib/python3.10/dist-packages (from jsonpatch<2.0,>=1.33->langchain-core<0.3.0,>=0.2.22->langchain-community) (3.0.0)\n",
            "Requirement already satisfied: annotated-types>=0.4.0 in /usr/local/lib/python3.10/dist-packages (from pydantic<3,>=1->langchain<0.3.0,>=0.2.9->langchain-community) (0.7.0)\n",
            "Requirement already satisfied: pydantic-core==2.20.1 in /usr/local/lib/python3.10/dist-packages (from pydantic<3,>=1->langchain<0.3.0,>=0.2.9->langchain-community) (2.20.1)\n",
            "Requirement already satisfied: mypy-extensions>=0.3.0 in /usr/local/lib/python3.10/dist-packages (from typing-inspect<1,>=0.4.0->dataclasses-json<0.7,>=0.5.7->langchain-community) (1.0.0)\n"
          ]
        }
      ]
    },
    {
      "cell_type": "code",
      "source": [
        "!pip install pypdf"
      ],
      "metadata": {
        "colab": {
          "base_uri": "https://localhost:8080/"
        },
        "id": "_aQMC-7Wzg7I",
        "outputId": "c0fe846b-24c1-4ef6-e263-9d188b37322b"
      },
      "execution_count": 21,
      "outputs": [
        {
          "output_type": "stream",
          "name": "stdout",
          "text": [
            "Requirement already satisfied: pypdf in /usr/local/lib/python3.10/dist-packages (4.3.0)\n",
            "Requirement already satisfied: typing_extensions>=4.0 in /usr/local/lib/python3.10/dist-packages (from pypdf) (4.12.2)\n"
          ]
        }
      ]
    },
    {
      "cell_type": "code",
      "execution_count": 22,
      "metadata": {
        "colab": {
          "base_uri": "https://localhost:8080/"
        },
        "id": "XFJjqvUxvyVP",
        "outputId": "8fa41ee9-3288-443e-efc3-df0a24f9a74c"
      },
      "outputs": [
        {
          "output_type": "stream",
          "name": "stdout",
          "text": [
            "keph104.pdf\n",
            "<class 'list'> 22\n",
            "<class 'langchain_core.documents.base.Document'>\n",
            "{'source': '/content/books/keph104.pdf', 'page': 0}\n",
            "2204\n",
            "22\n"
          ]
        }
      ],
      "source": [
        "from langchain_community.document_loaders import TextLoader, PyPDFLoader\n",
        "import os\n",
        "docs = []\n",
        "my_dir = '/content/books'\n",
        "for f in os.listdir(my_dir):\n",
        "  if not f.endswith(\".pdf\"):\n",
        "    continue\n",
        "  print(f)\n",
        "  loader = PyPDFLoader(os.path.join(my_dir,f))\n",
        "  doc = loader.load()\n",
        "  print(type(doc),len(doc))\n",
        "  print(type(doc[0]))\n",
        "  print(doc[0].metadata)\n",
        "  print(len(doc[0].page_content))\n",
        "  docs.extend(doc)\n",
        "print(len(docs))"
      ]
    },
    {
      "cell_type": "code",
      "source": [],
      "metadata": {
        "id": "yHLj6S5z1lKx"
      },
      "execution_count": 22,
      "outputs": []
    },
    {
      "cell_type": "code",
      "source": [
        "!pip install -qU langchain-text-splitters"
      ],
      "metadata": {
        "id": "_OY-DOeXwoUX"
      },
      "execution_count": 23,
      "outputs": []
    },
    {
      "cell_type": "code",
      "source": [
        "from langchain_text_splitters import RecursiveCharacterTextSplitter\n",
        "splitter = RecursiveCharacterTextSplitter(chunk_size = 1000, chunk_overlap=100)\n",
        "chunks = splitter.split_documents(docs)\n",
        "print(f\"{len(docs)} documents have been split into {len(chunks)} chunks\")\n",
        "print(f\"Each chunk is of type {type(chunks[0])}\")\n",
        "print(f\"\\nSample chunk page content:\\n{chunks[0].page_content}\")"
      ],
      "metadata": {
        "colab": {
          "base_uri": "https://localhost:8080/"
        },
        "id": "pl9ZAwg_1fcn",
        "outputId": "674191dd-253c-463e-9e19-4a936c40ea8b"
      },
      "execution_count": 24,
      "outputs": [
        {
          "output_type": "stream",
          "name": "stdout",
          "text": [
            "22 documents have been split into 90 chunks\n",
            "Each chunk is of type <class 'langchain_core.documents.base.Document'>\n",
            "\n",
            "Sample chunk page content:\n",
            "CHAPTER  FOUR\n",
            "LAWS OF MOTION\n",
            "4.1  INTRODUCTION\n",
            "In the preceding Chapter , our concer n was to describe the\n",
            "motion of a particle in space quantitatively. W e saw that\n",
            "uniform motion needs the concept of velocity alone whereas\n",
            "non-uniform motion requires the concept of acceleration in\n",
            "addition.  So far , we have not asked the question as to what\n",
            "gover ns the motion of bodies. In this chapter , we tur n to this\n",
            "basic question.\n",
            "Let us first guess the answer based on our common\n",
            "experience. To move a football at rest, someone must kick it.\n",
            "To throw a stone upwards, one has to  give it an upward\n",
            "push.  A breeze causes the branches of a tree to swing; a\n",
            "strong wind can even move heavy objects. A boat moves in a\n",
            "flowing river without anyone rowing it. Clearly, some external\n",
            "agency is needed to provide force to move a body from rest.\n",
            "Likewise, an external force is needed also to retard or stop\n",
            "motion.  Y ou can stop a ball r olling down an inclined plane by\n"
          ]
        }
      ]
    },
    {
      "cell_type": "code",
      "source": [
        "!pip install -qU sentence_transformers"
      ],
      "metadata": {
        "id": "IpXr7KoA6WE5"
      },
      "execution_count": 25,
      "outputs": []
    },
    {
      "cell_type": "code",
      "source": [
        "from langchain_community.embeddings.sentence_transformer import SentenceTransformerEmbeddings\n",
        "embeddings = SentenceTransformerEmbeddings(model_name = \"all-MiniLM-L6-v2\")"
      ],
      "metadata": {
        "id": "OM6TFbFo4qhZ"
      },
      "execution_count": 26,
      "outputs": []
    },
    {
      "cell_type": "code",
      "source": [
        "!pip install -qU langchain-chroma"
      ],
      "metadata": {
        "id": "0yta5QPr7DD0"
      },
      "execution_count": 27,
      "outputs": []
    },
    {
      "cell_type": "code",
      "source": [
        "from langchain_chroma import Chroma\n",
        "\n",
        "persist_directory = os.path.join(my_dir, \"chroma_db\")\n",
        "\n",
        "vectordb = Chroma.from_documents(\n",
        "    documents=chunks,\n",
        "    persist_directory=persist_directory,\n",
        "    embedding=embeddings\n",
        ")"
      ],
      "metadata": {
        "id": "DVkH5ls97jvK"
      },
      "execution_count": 28,
      "outputs": []
    },
    {
      "cell_type": "code",
      "source": [
        "query = \"What is laws of motion \"\n",
        "relevant_docs = vectordb.max_marginal_relevance_search(query)\n",
        "print(type(relevant_docs),len(relevant_docs))\n",
        "print(type(relevant_docs[0]))\n"
      ],
      "metadata": {
        "colab": {
          "base_uri": "https://localhost:8080/"
        },
        "id": "s8kzz_O78kpH",
        "outputId": "a932fa63-855d-4be1-e207-0a0e61c9059c"
      },
      "execution_count": 29,
      "outputs": [
        {
          "output_type": "stream",
          "name": "stdout",
          "text": [
            "<class 'list'> 4\n",
            "<class 'langchain_core.documents.base.Document'>\n"
          ]
        }
      ]
    },
    {
      "cell_type": "code",
      "source": [
        "for d in relevant_docs:\n",
        "  print(f\"------------{len(d.page_content)}------- \\n{d.page_content}\")"
      ],
      "metadata": {
        "colab": {
          "base_uri": "https://localhost:8080/"
        },
        "id": "258OmCQo_JSj",
        "outputId": "37352d01-2931-4b64-e01b-f106b3406a15"
      },
      "execution_count": 30,
      "outputs": [
        {
          "output_type": "stream",
          "name": "stdout",
          "text": [
            "------------961------- \n",
            "CHAPTER  FOUR\n",
            "LAWS OF MOTION\n",
            "4.1  INTRODUCTION\n",
            "In the preceding Chapter , our concer n was to describe the\n",
            "motion of a particle in space quantitatively. W e saw that\n",
            "uniform motion needs the concept of velocity alone whereas\n",
            "non-uniform motion requires the concept of acceleration in\n",
            "addition.  So far , we have not asked the question as to what\n",
            "gover ns the motion of bodies. In this chapter , we tur n to this\n",
            "basic question.\n",
            "Let us first guess the answer based on our common\n",
            "experience. To move a football at rest, someone must kick it.\n",
            "To throw a stone upwards, one has to  give it an upward\n",
            "push.  A breeze causes the branches of a tree to swing; a\n",
            "strong wind can even move heavy objects. A boat moves in a\n",
            "flowing river without anyone rowing it. Clearly, some external\n",
            "agency is needed to provide force to move a body from rest.\n",
            "Likewise, an external force is needed also to retard or stop\n",
            "motion.  Y ou can stop a ball r olling down an inclined plane by\n",
            "------------367------- \n",
            "uniform motion?4.1 Introduction\n",
            "4.2 Aristotle’s fallacy\n",
            "4.3 The law of inertia\n",
            "4.4 Newton’s first law of motion\n",
            "4.5 Newton’s second law of\n",
            "motion\n",
            "4.6 Newton’s third law of motion\n",
            "4.7 Conservation of momentum\n",
            "4.8 Equilibrium of a particle\n",
            "4.9 Common forces in mechanics\n",
            "4.10 Circular motion\n",
            "4.11 Solving problems in\n",
            "mechanics\n",
            "Summary\n",
            "Points to ponder\n",
            "Exercises\n",
            "2024-25\n",
            "------------978------- \n",
            "LAWS OF MOTION 65\n",
            "⊳method in solved examples. To handle a typical\n",
            "problem in mechanics systematically, one\n",
            "should use the following steps :\n",
            "(i)Draw a diagram showing schematically the\n",
            "various parts of the assembly of bodies, the\n",
            "links, supports, etc.\n",
            "(ii)Choose a convenient part of the assembly\n",
            "as one system.\n",
            "(iii)Draw a separate diagram which shows this\n",
            "system and all the forces on the system by\n",
            "the remaining part of the assembly.  Include\n",
            "also the forces on the system by other\n",
            "agencies. Do not include the forces on the\n",
            "environment by the system .  A diagram of\n",
            "this type is known as ‘a free-body diagram’.\n",
            "(Note this does not imply that the system\n",
            "under consideration is without a net force).\n",
            "(iv)In a free-body diagram, include information\n",
            "about forces (their magnitudes and\n",
            "directions) that are either given or you are\n",
            "sure of (e.g., the direction of tension in a\n",
            "string along its length).  The rest should be\n",
            "treated as unknowns to be determined using\n",
            "laws of motion.\n",
            "------------986------- \n",
            "LAWS OF MOTION 67\n",
            "In simple terms, the law can be stated thus :\n",
            "Forces in nature always occur between pairs of bodies.  Force on a body A by body\n",
            "B is equal and opposite to the force on the body B by A.\n",
            "Action and reaction forces are simultaneous forces.  There is no cause-effect\n",
            "relation between action and reaction.  Any of the two mutual forces can be\n",
            "called action and the other reaction.  Action and reaction act on different\n",
            "bodies and so they cannot be cancelled out.  The internal action and reaction\n",
            "forces between dif ferent parts of a body do, however , sum to zero.\n",
            "7.Law of Conservation of Momentum\n",
            "The total momentum of an isolated system of particles is conserved.  The law\n",
            "follows from the second and third law of motion.\n",
            "8.Friction\n",
            "Frictional force opposes (impending or actual) relative motion between two\n",
            "surfaces in contact.  It is the component of the contact force along the common\n",
            "tangent to the surface in contact.  Static friction fs opposes impending relative\n"
          ]
        }
      ]
    },
    {
      "cell_type": "code",
      "source": [
        "!pip install -qU langchain-groq"
      ],
      "metadata": {
        "id": "BrYTREjPAfhv"
      },
      "execution_count": 31,
      "outputs": []
    },
    {
      "cell_type": "code",
      "source": [
        "GROQ_API_KEY = \"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\""
      ],
      "metadata": {
        "id": "_wSX1NQ_BBnn"
      },
      "execution_count": 32,
      "outputs": []
    },
    {
      "cell_type": "code",
      "source": [
        "from langchain_groq import ChatGroq\n",
        "from langchain_core.prompts import ChatPromptTemplate\n",
        "\n",
        "# GROQ_API_KEY = <your_api_key>\n",
        "\n",
        "llm = ChatGroq(\n",
        "    model=\"llama3-70b-8192\",\n",
        "    temperature=0,\n",
        "    api_key=GROQ_API_KEY\n",
        ")\n",
        "\n",
        "system_message = \"You are a helpful assistant. Answer the user's query based on the given context. If the query cannot be answered from the given context, simply say so. DO NOT make up answers.\"\n",
        "\n",
        "human_message = \"\"\"Answer the following question based on the given context:\n",
        "{question}\n",
        "\n",
        "Context: {context}\"\"\"\n",
        "\n",
        "prompt = ChatPromptTemplate.from_messages([\n",
        "    (\"system\", system_message),\n",
        "    (\"human\", human_message)\n",
        "])\n",
        "\n",
        "chain = prompt | llm"
      ],
      "metadata": {
        "id": "cf2h_bEGBT79"
      },
      "execution_count": 33,
      "outputs": []
    },
    {
      "cell_type": "code",
      "source": [
        "# relevant_docs is a list of Document objects\n",
        "context = \"\\n\".join([d.page_content for d in relevant_docs])\n",
        "\n",
        "response = chain.invoke({\"question\": query, \"context\": context})\n",
        "print(response)"
      ],
      "metadata": {
        "colab": {
          "base_uri": "https://localhost:8080/"
        },
        "id": "NsN61PolD4cJ",
        "outputId": "72d35b9e-3446-44ac-d820-9e6849f98d12"
      },
      "execution_count": 34,
      "outputs": [
        {
          "output_type": "stream",
          "name": "stdout",
          "text": [
            "content=\"Based on the given context, the laws of motion are not explicitly defined. However, the chapter appears to be introducing the concept of laws of motion and will likely discuss Newton's laws of motion, which include the law of inertia, Newton's first law of motion, Newton's second law of motion, and Newton's third law of motion. Additionally, the chapter may also cover other related concepts such as conservation of momentum, equilibrium of a particle, and common forces in mechanics.\" response_metadata={'token_usage': {'completion_tokens': 96, 'prompt_tokens': 873, 'total_tokens': 969, 'completion_time': 0.295489572, 'prompt_time': 0.094752215, 'queue_time': None, 'total_time': 0.390241787}, 'model_name': 'llama3-70b-8192', 'system_fingerprint': 'fp_87cbfbbc4d', 'finish_reason': 'stop', 'logprobs': None} id='run-6ee74c05-851c-4948-8a2e-653d3b026713-0' usage_metadata={'input_tokens': 873, 'output_tokens': 96, 'total_tokens': 969}\n"
          ]
        }
      ]
    },
    {
      "cell_type": "code",
      "source": [],
      "metadata": {
        "id": "bbou9V5fE593"
      },
      "execution_count": null,
      "outputs": []
    }
  ]
}